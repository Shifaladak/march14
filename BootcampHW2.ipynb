{
 "cells": [
  {
   "cell_type": "code",
   "execution_count": null,
   "id": "7b2cc054-1a45-4fdc-a390-a1642c7234a6",
   "metadata": {},
   "outputs": [],
   "source": []
  }
 ],
 "metadata": {
  "kernelspec": {
   "display_name": "",
   "name": ""
  },
  "language_info": {
   "name": ""
  }
 },
 "nbformat": 4,
 "nbformat_minor": 5
}
